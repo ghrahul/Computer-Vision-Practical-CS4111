{
 "cells": [
  {
   "cell_type": "code",
   "execution_count": 26,
   "metadata": {},
   "outputs": [
    {
     "name": "stdout",
     "output_type": "stream",
     "text": [
      "(255, 255)\n",
      "121\n"
     ]
    },
    {
     "data": {
      "text/plain": [
       "\"\\nplt.subplot(121)\\nplt.imshow(img)\\nplt.title('Original')\\nplt.xticks([])\\nplt.yticks([])\\nplt.subplot(122)\\nplt.imshow(blur)\\nplt.title('Blurred')\\nplt.xticks([])\\nplt.yticks([])\\nplt.show()\\n\\n\""
      ]
     },
     "execution_count": 26,
     "metadata": {},
     "output_type": "execute_result"
    }
   ],
   "source": [
    "import cv2\n",
    "import numpy as np\n",
    "from matplotlib import pyplot as plt\n",
    "\n",
    "img = cv2.imread('279.jpg', cv2.IMREAD_GRAYSCALE)\n",
    "resized_image = cv2.resize(img, (255, 255)) \n",
    "print(resized_image.shape)\n",
    "print(resized_image[0][0])\n",
    "a = np.zeros(shape=(5,5))\n",
    "result_array = np.ones(shape=(255,255))\n",
    "\n",
    "\n",
    "\n",
    "'''\n",
    "plt.subplot(121)\n",
    "plt.imshow(img)\n",
    "plt.title('Original')\n",
    "plt.xticks([])\n",
    "plt.yticks([])\n",
    "plt.subplot(122)\n",
    "plt.imshow(blur)\n",
    "plt.title('Blurred')\n",
    "plt.xticks([])\n",
    "plt.yticks([])\n",
    "plt.show()\n",
    "\n",
    "'''"
   ]
  }
 ],
 "metadata": {
  "kernelspec": {
   "display_name": "Python 3",
   "language": "python",
   "name": "python3"
  },
  "language_info": {
   "codemirror_mode": {
    "name": "ipython",
    "version": 3
   },
   "file_extension": ".py",
   "mimetype": "text/x-python",
   "name": "python",
   "nbconvert_exporter": "python",
   "pygments_lexer": "ipython3",
   "version": "3.6.6"
  }
 },
 "nbformat": 4,
 "nbformat_minor": 2
}
