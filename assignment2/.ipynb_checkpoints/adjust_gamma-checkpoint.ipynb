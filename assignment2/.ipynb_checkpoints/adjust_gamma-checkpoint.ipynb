{
 "cells": [
  {
   "cell_type": "code",
   "execution_count": 3,
   "metadata": {},
   "outputs": [
    {
     "ename": "SyntaxError",
     "evalue": "invalid syntax (<ipython-input-3-3fa99c1cce5e>, line 20)",
     "output_type": "error",
     "traceback": [
      "\u001b[1;36m  File \u001b[1;32m\"<ipython-input-3-3fa99c1cce5e>\"\u001b[1;36m, line \u001b[1;32m20\u001b[0m\n\u001b[1;33m    args = vars(ap.parse_args())\u001b[0m\n\u001b[1;37m       ^\u001b[0m\n\u001b[1;31mSyntaxError\u001b[0m\u001b[1;31m:\u001b[0m invalid syntax\n"
     ]
    }
   ],
   "source": [
    "from __future__ import print_function\n",
    "from builtins import input\n",
    "import cv2 as cv\n",
    "import numpy as np\n",
    "import argparse\n",
    "# Read image given by user\n",
    "parser = argparse.ArgumentParser(description='Code for Changing the contrast and brightness of an image! tutorial.')\n",
    "parser.add_argument('--input', help='.', default='Xray-300x247.jpg')\n",
    "args = parser.parse_args()\n",
    "image = cv.imread(cv.samples.findFile(args.input))\n",
    "if image is None:\n",
    "    print('Could not open or find the image: ', args.input)\n",
    "    exit(0)\n",
    "new_image = np.zeros(image.shape, image.dtype)\n",
    "alpha = 1.0 # Simple contrast control\n",
    "beta = 0    # Simple brightness control\n",
    "# Initialize values\n",
    "print(' Basic Linear Transforms ')\n",
    "print('-------------------------')\n",
    "try:\n",
    "    alpha = float(input('* Enter the alpha value [1.0-3.0]: '))\n",
    "    beta = int(input('* Enter the beta value [0-100]: '))\n",
    "except ValueError:\n",
    "    print('Error, not a number')\n",
    "# Do the operation new_image(i,j) = alpha*image(i,j) + beta\n",
    "# Instead of these 'for' loops we could have used simply:\n",
    "# new_image = cv.convertScaleAbs(image, alpha=alpha, beta=beta)\n",
    "# but we wanted to show you how to access the pixels :)\n",
    "for y in range(image.shape[0]):\n",
    "    for x in range(image.shape[1]):\n",
    "        for c in range(image.shape[2]):\n",
    "            new_image[y,x,c] = np.clip(alpha*image[y,x,c] + beta, 0, 255)\n",
    "cv.imshow('Original Image', image)\n",
    "cv.imshow('New Image', new_image)\n",
    "# Wait until user press some key\n",
    "cv.waitKey()"
   ]
  }
 ],
 "metadata": {
  "kernelspec": {
   "display_name": "Python 3",
   "language": "python",
   "name": "python3"
  },
  "language_info": {
   "codemirror_mode": {
    "name": "ipython",
    "version": 3
   },
   "file_extension": ".py",
   "mimetype": "text/x-python",
   "name": "python",
   "nbconvert_exporter": "python",
   "pygments_lexer": "ipython3",
   "version": "3.6.6"
  }
 },
 "nbformat": 4,
 "nbformat_minor": 2
}
